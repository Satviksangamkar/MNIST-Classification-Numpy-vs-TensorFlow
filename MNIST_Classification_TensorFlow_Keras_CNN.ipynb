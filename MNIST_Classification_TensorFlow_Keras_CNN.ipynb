{
 "cells": [
  {
   "cell_type": "markdown",
   "id": "bd640925",
   "metadata": {},
   "source": [
    "# MNIST Digit Classification with TensorFlow and Keras"
   ]
  },
  {
   "cell_type": "markdown",
   "id": "19de5f5b",
   "metadata": {},
   "source": [
    "## 1. Importing Libraries and Loading Data\n",
    "\n",
    "In this section, we import the necessary libraries and load the MNIST dataset using TensorFlow/Keras."
   ]
  },
  {
   "cell_type": "code",
   "execution_count": 2,
   "id": "42017fdc",
   "metadata": {},
   "outputs": [],
   "source": [
    "\n",
    "import numpy as np\n",
    "import pandas as pd\n",
    "from tensorflow.keras.utils import to_categorical\n",
    "from tensorflow.keras.datasets import mnist\n",
    "\n",
    "# Load MNIST dataset from TensorFlow/Keras\n",
    "(X_train, Y_train), (X_test, Y_test) = mnist.load_data()\n",
    "\n",
    "# Reshape and normalize the data\n",
    "X_train = X_train.reshape((X_train.shape[0], 28, 28, 1)).astype('float32') / 255\n",
    "X_test = X_test.reshape((X_test.shape[0], 28, 28, 1)).astype('float32') / 255\n",
    "\n",
    "# One-hot encode the labels\n",
    "Y_train = to_categorical(Y_train, 10)\n",
    "Y_test = to_categorical(Y_test, 10)\n"
   ]
  },
  {
   "cell_type": "markdown",
   "id": "e09d126c",
   "metadata": {},
   "source": [
    "## 2. Defining the CNN Model\n",
    "\n",
    "Here we define a Convolutional Neural Network (CNN) model using Keras."
   ]
  },
  {
   "cell_type": "code",
   "execution_count": 3,
   "id": "7e4ad958",
   "metadata": {},
   "outputs": [
    {
     "name": "stderr",
     "output_type": "stream",
     "text": [
      "d:\\MNIST Classification Numpy vs TensorFlow\\neural_network\\Lib\\site-packages\\keras\\src\\layers\\convolutional\\base_conv.py:107: UserWarning: Do not pass an `input_shape`/`input_dim` argument to a layer. When using Sequential models, prefer using an `Input(shape)` object as the first layer in the model instead.\n",
      "  super().__init__(activity_regularizer=activity_regularizer, **kwargs)\n"
     ]
    }
   ],
   "source": [
    "\n",
    "from tensorflow.keras.models import Sequential\n",
    "from tensorflow.keras.layers import Conv2D, MaxPooling2D, Flatten, Dense, Dropout, BatchNormalization\n",
    "from tensorflow.keras.optimizers import Adam\n",
    "from tensorflow.keras.callbacks import LearningRateScheduler\n",
    "\n",
    "# Define the CNN model\n",
    "model = Sequential([\n",
    "    Conv2D(32, (3, 3), activation='relu', input_shape=(28, 28, 1)),\n",
    "    BatchNormalization(),\n",
    "    MaxPooling2D(pool_size=(2, 2)),\n",
    "    Conv2D(64, (3, 3), activation='relu'),\n",
    "    BatchNormalization(),\n",
    "    MaxPooling2D(pool_size=(2, 2)),\n",
    "    Flatten(),\n",
    "    Dense(128, activation='relu'),\n",
    "    Dropout(0.5),\n",
    "    Dense(10, activation='softmax')\n",
    "])\n",
    "\n",
    "# Compile the model\n",
    "model.compile(optimizer=Adam(), loss='categorical_crossentropy', metrics=['accuracy'])\n"
   ]
  },
  {
   "cell_type": "markdown",
   "id": "58bb5bb3",
   "metadata": {},
   "source": [
    "## 3. Defining Learning Rate Scheduler\n",
    "\n",
    "We define a learning rate scheduler to adjust the learning rate during training."
   ]
  },
  {
   "cell_type": "code",
   "execution_count": 4,
   "id": "61f7c7c8",
   "metadata": {},
   "outputs": [],
   "source": [
    "\n",
    "def scheduler(epoch, lr):\n",
    "    if epoch % 10 == 0 and epoch > 0:\n",
    "        lr = lr * 0.9\n",
    "    return lr\n",
    "\n",
    "lr_scheduler = LearningRateScheduler(scheduler)\n"
   ]
  },
  {
   "cell_type": "markdown",
   "id": "d2511fca",
   "metadata": {},
   "source": [
    "## 4. Training the Model\n",
    "\n",
    "Now we train the model on the MNIST dataset."
   ]
  },
  {
   "cell_type": "code",
   "execution_count": 5,
   "id": "827d6d2c",
   "metadata": {},
   "outputs": [
    {
     "name": "stdout",
     "output_type": "stream",
     "text": [
      "Epoch 1/20\n",
      "\u001b[1m844/844\u001b[0m \u001b[32m━━━━━━━━━━━━━━━━━━━━\u001b[0m\u001b[37m\u001b[0m \u001b[1m12s\u001b[0m 12ms/step - accuracy: 0.8646 - loss: 0.4686 - val_accuracy: 0.9827 - val_loss: 0.0607 - learning_rate: 0.0010\n",
      "Epoch 2/20\n",
      "\u001b[1m844/844\u001b[0m \u001b[32m━━━━━━━━━━━━━━━━━━━━\u001b[0m\u001b[37m\u001b[0m \u001b[1m11s\u001b[0m 13ms/step - accuracy: 0.9706 - loss: 0.0985 - val_accuracy: 0.9868 - val_loss: 0.0443 - learning_rate: 0.0010\n",
      "Epoch 3/20\n",
      "\u001b[1m844/844\u001b[0m \u001b[32m━━━━━━━━━━━━━━━━━━━━\u001b[0m\u001b[37m\u001b[0m \u001b[1m11s\u001b[0m 13ms/step - accuracy: 0.9802 - loss: 0.0686 - val_accuracy: 0.9912 - val_loss: 0.0350 - learning_rate: 0.0010\n",
      "Epoch 4/20\n",
      "\u001b[1m844/844\u001b[0m \u001b[32m━━━━━━━━━━━━━━━━━━━━\u001b[0m\u001b[37m\u001b[0m \u001b[1m11s\u001b[0m 13ms/step - accuracy: 0.9823 - loss: 0.0594 - val_accuracy: 0.9900 - val_loss: 0.0401 - learning_rate: 0.0010\n",
      "Epoch 5/20\n",
      "\u001b[1m844/844\u001b[0m \u001b[32m━━━━━━━━━━━━━━━━━━━━\u001b[0m\u001b[37m\u001b[0m \u001b[1m10s\u001b[0m 12ms/step - accuracy: 0.9853 - loss: 0.0485 - val_accuracy: 0.9913 - val_loss: 0.0380 - learning_rate: 0.0010\n",
      "Epoch 6/20\n",
      "\u001b[1m844/844\u001b[0m \u001b[32m━━━━━━━━━━━━━━━━━━━━\u001b[0m\u001b[37m\u001b[0m \u001b[1m11s\u001b[0m 13ms/step - accuracy: 0.9876 - loss: 0.0406 - val_accuracy: 0.9910 - val_loss: 0.0388 - learning_rate: 0.0010\n",
      "Epoch 7/20\n",
      "\u001b[1m844/844\u001b[0m \u001b[32m━━━━━━━━━━━━━━━━━━━━\u001b[0m\u001b[37m\u001b[0m \u001b[1m10s\u001b[0m 12ms/step - accuracy: 0.9891 - loss: 0.0385 - val_accuracy: 0.9903 - val_loss: 0.0400 - learning_rate: 0.0010\n",
      "Epoch 8/20\n",
      "\u001b[1m844/844\u001b[0m \u001b[32m━━━━━━━━━━━━━━━━━━━━\u001b[0m\u001b[37m\u001b[0m \u001b[1m11s\u001b[0m 13ms/step - accuracy: 0.9909 - loss: 0.0296 - val_accuracy: 0.9915 - val_loss: 0.0398 - learning_rate: 0.0010\n",
      "Epoch 9/20\n",
      "\u001b[1m844/844\u001b[0m \u001b[32m━━━━━━━━━━━━━━━━━━━━\u001b[0m\u001b[37m\u001b[0m \u001b[1m10s\u001b[0m 12ms/step - accuracy: 0.9899 - loss: 0.0334 - val_accuracy: 0.9902 - val_loss: 0.0449 - learning_rate: 0.0010\n",
      "Epoch 10/20\n",
      "\u001b[1m844/844\u001b[0m \u001b[32m━━━━━━━━━━━━━━━━━━━━\u001b[0m\u001b[37m\u001b[0m \u001b[1m11s\u001b[0m 13ms/step - accuracy: 0.9913 - loss: 0.0273 - val_accuracy: 0.9923 - val_loss: 0.0387 - learning_rate: 0.0010\n",
      "Epoch 11/20\n",
      "\u001b[1m844/844\u001b[0m \u001b[32m━━━━━━━━━━━━━━━━━━━━\u001b[0m\u001b[37m\u001b[0m \u001b[1m11s\u001b[0m 13ms/step - accuracy: 0.9924 - loss: 0.0242 - val_accuracy: 0.9920 - val_loss: 0.0387 - learning_rate: 9.0000e-04\n",
      "Epoch 12/20\n",
      "\u001b[1m844/844\u001b[0m \u001b[32m━━━━━━━━━━━━━━━━━━━━\u001b[0m\u001b[37m\u001b[0m \u001b[1m11s\u001b[0m 13ms/step - accuracy: 0.9937 - loss: 0.0204 - val_accuracy: 0.9930 - val_loss: 0.0355 - learning_rate: 9.0000e-04\n",
      "Epoch 13/20\n",
      "\u001b[1m844/844\u001b[0m \u001b[32m━━━━━━━━━━━━━━━━━━━━\u001b[0m\u001b[37m\u001b[0m \u001b[1m12s\u001b[0m 14ms/step - accuracy: 0.9938 - loss: 0.0191 - val_accuracy: 0.9925 - val_loss: 0.0441 - learning_rate: 9.0000e-04\n",
      "Epoch 14/20\n",
      "\u001b[1m844/844\u001b[0m \u001b[32m━━━━━━━━━━━━━━━━━━━━\u001b[0m\u001b[37m\u001b[0m \u001b[1m13s\u001b[0m 15ms/step - accuracy: 0.9934 - loss: 0.0197 - val_accuracy: 0.9920 - val_loss: 0.0424 - learning_rate: 9.0000e-04\n",
      "Epoch 15/20\n",
      "\u001b[1m844/844\u001b[0m \u001b[32m━━━━━━━━━━━━━━━━━━━━\u001b[0m\u001b[37m\u001b[0m \u001b[1m11s\u001b[0m 13ms/step - accuracy: 0.9938 - loss: 0.0188 - val_accuracy: 0.9907 - val_loss: 0.0518 - learning_rate: 9.0000e-04\n",
      "Epoch 16/20\n",
      "\u001b[1m844/844\u001b[0m \u001b[32m━━━━━━━━━━━━━━━━━━━━\u001b[0m\u001b[37m\u001b[0m \u001b[1m12s\u001b[0m 14ms/step - accuracy: 0.9944 - loss: 0.0158 - val_accuracy: 0.9918 - val_loss: 0.0468 - learning_rate: 9.0000e-04\n",
      "Epoch 17/20\n",
      "\u001b[1m844/844\u001b[0m \u001b[32m━━━━━━━━━━━━━━━━━━━━\u001b[0m\u001b[37m\u001b[0m \u001b[1m12s\u001b[0m 14ms/step - accuracy: 0.9946 - loss: 0.0179 - val_accuracy: 0.9910 - val_loss: 0.0514 - learning_rate: 9.0000e-04\n",
      "Epoch 18/20\n",
      "\u001b[1m844/844\u001b[0m \u001b[32m━━━━━━━━━━━━━━━━━━━━\u001b[0m\u001b[37m\u001b[0m \u001b[1m12s\u001b[0m 14ms/step - accuracy: 0.9953 - loss: 0.0148 - val_accuracy: 0.9905 - val_loss: 0.0466 - learning_rate: 9.0000e-04\n",
      "Epoch 19/20\n",
      "\u001b[1m844/844\u001b[0m \u001b[32m━━━━━━━━━━━━━━━━━━━━\u001b[0m\u001b[37m\u001b[0m \u001b[1m12s\u001b[0m 14ms/step - accuracy: 0.9945 - loss: 0.0161 - val_accuracy: 0.9923 - val_loss: 0.0462 - learning_rate: 9.0000e-04\n",
      "Epoch 20/20\n",
      "\u001b[1m844/844\u001b[0m \u001b[32m━━━━━━━━━━━━━━━━━━━━\u001b[0m\u001b[37m\u001b[0m \u001b[1m11s\u001b[0m 13ms/step - accuracy: 0.9950 - loss: 0.0159 - val_accuracy: 0.9928 - val_loss: 0.0482 - learning_rate: 9.0000e-04\n"
     ]
    }
   ],
   "source": [
    "\n",
    "# Fit the model\n",
    "history = model.fit(X_train, Y_train, epochs=20, batch_size=64, callbacks=[lr_scheduler], validation_split=0.1)\n"
   ]
  },
  {
   "cell_type": "markdown",
   "id": "4c5d0e7a",
   "metadata": {},
   "source": [
    "## 5. Evaluating the Model\n",
    "\n",
    "Here we evaluate the trained model on the test set."
   ]
  },
  {
   "cell_type": "code",
   "execution_count": 6,
   "id": "bc73bb6e",
   "metadata": {},
   "outputs": [
    {
     "name": "stdout",
     "output_type": "stream",
     "text": [
      "\u001b[1m313/313\u001b[0m \u001b[32m━━━━━━━━━━━━━━━━━━━━\u001b[0m\u001b[37m\u001b[0m \u001b[1m1s\u001b[0m 3ms/step - accuracy: 0.9922 - loss: 0.0335\n",
      "Test loss: 0.0283063817769289\n",
      "Test accuracy: 0.992900013923645\n"
     ]
    }
   ],
   "source": [
    "\n",
    "# Evaluate the model on the test set\n",
    "test_loss, test_accuracy = model.evaluate(X_test, Y_test)\n",
    "print(f\"Test loss: {test_loss}\")\n",
    "print(f\"Test accuracy: {test_accuracy}\")\n"
   ]
  },
  {
   "cell_type": "markdown",
   "id": "9c45997d",
   "metadata": {},
   "source": [
    "## 6. Defining a Function for Image Prediction\n",
    "\n",
    "We define a function to load, preprocess, and predict digits from custom images."
   ]
  },
  {
   "cell_type": "code",
   "execution_count": 7,
   "id": "5f05abd3",
   "metadata": {},
   "outputs": [],
   "source": [
    "\n",
    "from PIL import Image\n",
    "\n",
    "def predict_digit(image_path):\n",
    "    # Load image and convert to grayscale\n",
    "    img = Image.open(image_path).convert('L')\n",
    "    \n",
    "    # Resize to 28x28 pixels\n",
    "    img = img.resize((28, 28))\n",
    "    \n",
    "    # Convert image to numpy array\n",
    "    img_array = np.array(img)\n",
    "    \n",
    "    # Normalize the image\n",
    "    img_array = img_array.astype('float32') / 255\n",
    "    \n",
    "    # Reshape to fit model input\n",
    "    img_array = img_array.reshape((1, 28, 28, 1))\n",
    "    \n",
    "    # Predict digit\n",
    "    prediction = model.predict(img_array)\n",
    "    predicted_class = np.argmax(prediction, axis=1)[0]\n",
    "    confidence = np.max(prediction, axis=1)[0]\n",
    "    \n",
    "    return predicted_class, confidence\n"
   ]
  },
  {
   "cell_type": "markdown",
   "id": "fb84906d",
   "metadata": {},
   "source": [
    "## 7. Testing the Model with a New Image\n",
    "\n",
    "Finally, we test our model by predicting the digit in a custom image."
   ]
  },
  {
   "cell_type": "code",
   "execution_count": 8,
   "id": "7e077fda",
   "metadata": {},
   "outputs": [
    {
     "name": "stdout",
     "output_type": "stream",
     "text": [
      "\u001b[1m1/1\u001b[0m \u001b[32m━━━━━━━━━━━━━━━━━━━━\u001b[0m\u001b[37m\u001b[0m \u001b[1m0s\u001b[0m 128ms/step\n",
      "Predicted Digit: 7\n",
      "Confidence: 1.0000\n"
     ]
    },
    {
     "data": {
      "image/png": "[encoded data removed]",
      "text/plain": [
       "<Figure size 640x480 with 1 Axes>"
      ]
     },
     "metadata": {},
     "output_type": "display_data"
    }
   ],
   "source": [
    "\n",
    "import matplotlib.pyplot as plt\n",
    "\n",
    "# Test with a new image\n",
    "image_path = 'sample_image-300x298.webp'  # Replace with your image path\n",
    "predicted_digit, confidence = predict_digit(image_path)\n",
    "print(f\"Predicted Digit: {predicted_digit}\")\n",
    "print(f\"Confidence: {confidence:.4f}\")\n",
    "\n",
    "# Display the image\n",
    "img = Image.open(image_path)\n",
    "plt.imshow(img, cmap='gray')\n",
    "plt.title(f'Predicted Digit: {predicted_digit} (Confidence: {confidence:.4f})')\n",
    "plt.show()\n"
   ]
  }
 ],
 "metadata": {
  "kernelspec": {
   "display_name": "neural_network",
   "language": "python",
   "name": "python3"
  },
  "language_info": {
   "codemirror_mode": {
    "name": "ipython",
    "version": 3
   },
   "file_extension": ".py",
   "mimetype": "text/x-python",
   "name": "python",
   "nbconvert_exporter": "python",
   "pygments_lexer": "ipython3",
   "version": "3.12.4"
  }
 },
 "nbformat": 4,
 "nbformat_minor": 5
}
