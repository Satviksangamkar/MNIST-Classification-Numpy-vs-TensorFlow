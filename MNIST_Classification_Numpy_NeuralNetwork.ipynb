{
 "cells": [
  {
   "cell_type": "markdown",
   "id": "4c1b3a10",
   "metadata": {},
   "source": [
    "# MNIST Digit Classification with Neural Network"
   ]
  },
  {
   "cell_type": "markdown",
   "id": "f837f357",
   "metadata": {},
   "source": [
    "## 1. Importing Libraries and Loading Data\n",
    "\n",
    "In this section, we import the necessary libraries and load the MNIST dataset."
   ]
  },
  {
   "cell_type": "code",
   "execution_count": 14,
   "id": "5fe7cf60",
   "metadata": {},
   "outputs": [
    {
     "name": "stdout",
     "output_type": "stream",
     "text": [
      "Train Data Columns: Index(['5', '0', '0.1', '0.2', '0.3', '0.4', '0.5', '0.6', '0.7', '0.8',\n",
      "       ...\n",
      "       '0.608', '0.609', '0.610', '0.611', '0.612', '0.613', '0.614', '0.615',\n",
      "       '0.616', '0.617'],\n",
      "      dtype='object', length=785)\n",
      "Test Data Columns: Index(['7', '0', '0.1', '0.2', '0.3', '0.4', '0.5', '0.6', '0.7', '0.8',\n",
      "       ...\n",
      "       '0.658', '0.659', '0.660', '0.661', '0.662', '0.663', '0.664', '0.665',\n",
      "       '0.666', '0.667'],\n",
      "      dtype='object', length=785)\n"
     ]
    }
   ],
   "source": [
    "\n",
    "import pandas as pd\n",
    "import numpy as np\n",
    "from PIL import Image\n",
    "\n",
    "# Load the datasets\n",
    "train_data = pd.read_csv('mnist_train.csv')\n",
    "test_data = pd.read_csv('mnist_test.csv')\n",
    "\n",
    "# Print the column names\n",
    "print(\"Train Data Columns:\", train_data.columns)\n",
    "print(\"Test Data Columns:\", test_data.columns)\n"
   ]
  },
  {
   "cell_type": "markdown",
   "id": "ddab5fc9",
   "metadata": {},
   "source": [
    "## 2. Data Preprocessing\n",
    "\n",
    "Here we preprocess the data by normalizing the pixel values and one-hot encoding the labels."
   ]
  },
  {
   "cell_type": "code",
   "execution_count": 15,
   "id": "0130f274",
   "metadata": {},
   "outputs": [],
   "source": [
    "\n",
    "# Normalize pixel values to [0, 1]\n",
    "X_train = train_data.iloc[:, 1:].values / 255.0\n",
    "y_train = train_data.iloc[:, 0].values\n",
    "\n",
    "X_test = test_data.iloc[:, 1:].values / 255.0\n",
    "y_test = test_data.iloc[:, 0].values\n",
    "\n",
    "# One-hot encode the labels\n",
    "def one_hot_encode(labels, num_classes=10):\n",
    "    return np.eye(num_classes)[labels]\n",
    "\n",
    "y_train_encoded = one_hot_encode(y_train)\n",
    "y_test_encoded = one_hot_encode(y_test)\n"
   ]
  },
  {
   "cell_type": "markdown",
   "id": "36e34296",
   "metadata": {},
   "source": [
    "## 3. Neural Network Implementation\n",
    "\n",
    "This section defines the NeuralNetwork class with methods for forward propagation, backward propagation, and training."
   ]
  },
  {
   "cell_type": "code",
   "execution_count": 16,
   "id": "e132416e",
   "metadata": {},
   "outputs": [],
   "source": [
    "\n",
    "class NeuralNetwork:\n",
    "    def __init__(self, input_size, hidden_size, output_size, learning_rate=0.01):\n",
    "        self.W1 = np.random.randn(input_size, hidden_size) * 0.01\n",
    "        self.b1 = np.zeros((1, hidden_size))\n",
    "        self.W2 = np.random.randn(hidden_size, output_size) * 0.01\n",
    "        self.b2 = np.zeros((1, output_size))\n",
    "        self.learning_rate = learning_rate\n",
    "\n",
    "    def sigmoid(self, z):\n",
    "        return 1 / (1 + np.exp(-z))\n",
    "\n",
    "    def sigmoid_derivative(self, z):\n",
    "        sig = self.sigmoid(z)\n",
    "        return sig * (1 - sig)\n",
    "\n",
    "    def softmax(self, z):\n",
    "        exp_z = np.exp(z - np.max(z, axis=1, keepdims=True))\n",
    "        return exp_z / np.sum(exp_z, axis=1, keepdims=True)\n",
    "\n",
    "    def forward(self, X):\n",
    "        self.z1 = np.dot(X, self.W1) + self.b1\n",
    "        self.a1 = self.sigmoid(self.z1)\n",
    "        self.z2 = np.dot(self.a1, self.W2) + self.b2\n",
    "        self.a2 = self.softmax(self.z2)\n",
    "        return self.a2\n",
    "\n",
    "    def backward(self, X, y):\n",
    "        m = X.shape[0]\n",
    "        delta2 = self.a2 - y\n",
    "        dW2 = np.dot(self.a1.T, delta2) / m\n",
    "        db2 = np.sum(delta2, axis=0, keepdims=True) / m\n",
    "\n",
    "        delta1 = np.dot(delta2, self.W2.T) * self.sigmoid_derivative(self.z1)\n",
    "        dW1 = np.dot(X.T, delta1) / m\n",
    "        db1 = np.sum(delta1, axis=0, keepdims=True) / m\n",
    "\n",
    "        self.W1 -= self.learning_rate * dW1\n",
    "        self.b1 -= self.learning_rate * db1\n",
    "        self.W2 -= self.learning_rate * dW2\n",
    "        self.b2 -= self.learning_rate * db2\n",
    "\n",
    "    def train(self, X, y, epochs=10, batch_size=64):\n",
    "        for epoch in range(epochs):\n",
    "            indices = np.arange(X.shape[0])\n",
    "            np.random.shuffle(indices)\n",
    "            X = X[indices]\n",
    "            y = y[indices]\n",
    "\n",
    "            for i in range(0, X.shape[0], batch_size):\n",
    "                X_batch = X[i:i + batch_size]\n",
    "                y_batch = y[i:i + batch_size]\n",
    "                self.forward(X_batch)\n",
    "                self.backward(X_batch, y_batch)\n",
    "\n",
    "            if (epoch + 1) % 1 == 0:\n",
    "                loss = self.calculate_loss(X, y)\n",
    "                print(f'Epoch {epoch + 1}/{epochs}, Loss: {loss}')\n",
    "\n",
    "    def calculate_loss(self, X, y):\n",
    "        m = X.shape[0]\n",
    "        predictions = self.forward(X)\n",
    "        loss = -np.sum(y * np.log(predictions + 1e-8)) / m\n",
    "        return loss\n",
    "\n",
    "    def predict(self, X):\n",
    "        predictions = self.forward(X)\n",
    "        return np.argmax(predictions, axis=1)\n",
    "    def predict_image(self, image_path):\n",
    "        # Load and preprocess the image\n",
    "        image = Image.open(image_path).convert('L')  # Convert to grayscale\n",
    "        image = image.resize((28, 28))  # Resize to 28x28 pixels\n",
    "        image_array = np.array(image).astype(np.float32) / 255.0  # Normalize pixel values\n",
    "        image_array = image_array.reshape(1, -1)  # Flatten the image\n",
    "        \n",
    "        # Perform prediction\n",
    "        predictions = self.forward(image_array)\n",
    "        predicted_class = np.argmax(predictions, axis=1)[0]\n",
    "        confidence = np.max(predictions, axis=1)[0]  # Maximum value in the softmax output\n",
    "        \n",
    "        return predicted_class, confidence\n",
    "\n",
    "\n",
    "    def evaluate_image_accuracy(self, image_path, true_label):\n",
    "        predicted_class = self.predict_image(image_path)\n",
    "        accuracy = int(predicted_class == true_label)\n",
    "        return predicted_class, accuracy\n",
    "    \n",
    "    def display_image(self, image_path):\n",
    "        image = Image.open(image_path).convert('L')\n",
    "        plt.imshow(image, cmap='gray')\n",
    "        plt.axis('off')  # Hide axes\n",
    "        plt.show()\n",
    "\n"
   ]
  },
  {
   "cell_type": "markdown",
   "id": "a32a0d54",
   "metadata": {},
   "source": [
    "## 4. Training the Neural Network\n",
    "\n",
    "In this section, we initialize the neural network and train it on the MNIST dataset."
   ]
  },
  {
   "cell_type": "code",
   "execution_count": 17,
   "id": "aabd12ae",
   "metadata": {},
   "outputs": [
    {
     "name": "stdout",
     "output_type": "stream",
     "text": [
      "Epoch 1/10, Loss: 2.267879299816604\n",
      "Epoch 2/10, Loss: 2.0451641426048672\n",
      "Epoch 3/10, Loss: 1.5302371384556817\n",
      "Epoch 4/10, Loss: 1.1282760536905652\n",
      "Epoch 5/10, Loss: 0.888511303793344\n",
      "Epoch 6/10, Loss: 0.7410524681644666\n",
      "Epoch 7/10, Loss: 0.6449800301213804\n",
      "Epoch 8/10, Loss: 0.5784094817497745\n",
      "Epoch 9/10, Loss: 0.5301715366113381\n",
      "Epoch 10/10, Loss: 0.493058359248371\n"
     ]
    }
   ],
   "source": [
    "\n",
    "# Initialize and train the neural network\n",
    "input_size = X_train.shape[1]\n",
    "hidden_size = 128\n",
    "output_size = 10\n",
    "learning_rate = 0.01\n",
    "\n",
    "nn = NeuralNetwork(input_size, hidden_size, output_size, learning_rate)\n",
    "\n",
    "# Train the model\n",
    "nn.train(X_train, y_train_encoded, epochs=10)\n"
   ]
  },
  {
   "cell_type": "markdown",
   "id": "5710d0cf",
   "metadata": {},
   "source": [
    "## 5. Evaluating the Model\n",
    "\n",
    "Here we evaluate the trained model on both the training and test sets."
   ]
  },
  {
   "cell_type": "code",
   "execution_count": 18,
   "id": "97d65cb8",
   "metadata": {},
   "outputs": [
    {
     "name": "stdout",
     "output_type": "stream",
     "text": [
      "Train accuracy: 0.872097868297805\n",
      "Test accuracy: 0.877087708770877\n"
     ]
    }
   ],
   "source": [
    "\n",
    "# Evaluate the model\n",
    "train_predictions = nn.predict(X_train)\n",
    "test_predictions = nn.predict(X_test)\n",
    "\n",
    "# Convert one-hot encoded labels to class indices for accuracy calculation\n",
    "y_train_class = np.argmax(y_train_encoded, axis=1)\n",
    "y_test_class = np.argmax(y_test_encoded, axis=1)\n",
    "\n",
    "train_accuracy = np.mean(train_predictions == y_train_class)\n",
    "test_accuracy = np.mean(test_predictions == y_test_class)\n",
    "\n",
    "print(f'Train accuracy: {train_accuracy}')\n",
    "print(f'Test accuracy: {test_accuracy}')\n"
   ]
  },
  {
   "cell_type": "markdown",
   "id": "a77886f2",
   "metadata": {},
   "source": [
    "## 6. Predicting and Evaluating a Single Image\n",
    "\n",
    "Finally, we use the trained model to predict the digit in a single image and evaluate its accuracy."
   ]
  },
  {
   "cell_type": "code",
   "execution_count": 20,
   "id": "36e061cd",
   "metadata": {},
   "outputs": [
    {
     "data": {
      "image/png": "[encoded data removed]",
      "text/plain": [
       "<Figure size 640x480 with 1 Axes>"
      ]
     },
     "metadata": {},
     "output_type": "display_data"
    },
    {
     "name": "stdout",
     "output_type": "stream",
     "text": [
      "Predicted class for the image: 7\n",
      "Confidence of prediction: 0.9704\n",
      "Accuracy of prediction: 1\n"
     ]
    }
   ],
   "source": [
    "import matplotlib.pyplot as plt\n",
    "\n",
    "# Predict and evaluate a single image\n",
    "image_path = 'sample_image-300x298.webp'  # Replace with your image path\n",
    "true_label = 7  # Replace with the true label of your image\n",
    "\n",
    "# Display the image\n",
    "nn.display_image(image_path)\n",
    "\n",
    "# Get prediction and confidence\n",
    "predicted_class, confidence = nn.predict_image(image_path)\n",
    "print(f'Predicted class for the image: {predicted_class}')\n",
    "print(f'Confidence of prediction: {confidence:.4f}')  # Print confidence rounded to 4 decimal places\n",
    "\n",
    "# Evaluate accuracy\n",
    "accuracy = int(predicted_class == true_label)\n",
    "print(f'Accuracy of prediction: {accuracy}')\n"
   ]
  }
 ],
 "metadata": {
  "kernelspec": {
   "display_name": "neural_network",
   "language": "python",
   "name": "python3"
  },
  "language_info": {
   "codemirror_mode": {
    "name": "ipython",
    "version": 3
   },
   "file_extension": ".py",
   "mimetype": "text/x-python",
   "name": "python",
   "nbconvert_exporter": "python",
   "pygments_lexer": "ipython3",
   "version": "3.12.4"
  }
 },
 "nbformat": 4,
 "nbformat_minor": 5
}
